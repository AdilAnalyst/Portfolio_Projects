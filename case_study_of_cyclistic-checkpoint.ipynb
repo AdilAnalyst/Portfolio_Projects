{
 "cells": [
  {
   "cell_type": "markdown",
   "id": "034ddf4b-d14e-4b0b-b26a-fc83abd0bd59",
   "metadata": {},
   "source": [
    "# Case Study: Cyclistic \n",
    "Author: Adil"
   ]
  },
  {
   "cell_type": "markdown",
   "id": "7ab8da1c-4901-4872-8355-941486be3ebc",
   "metadata": {},
   "source": [
    "# Summary\n",
    "\r\n",
    "Cyclistic launched a successfull bike-share program in 2016, although it was a fictional startup. The program has grown to a network of 692 docking stations with more than 5800 bicycles acroess Chicago. The best thing for this program ie bikes can be unlocked from one station and could be returned to any other station anytime. Till this time, Cyclistic marketing strategy was depending on a path of awareness to audience with flexible pricing options for single-ride, full-day and annual passes. Cyclistic’s finance analysts found annual members more profitable than casual riders.To achieve this, marketing team wants to better understand the groups and  identify trendsusing data analysis."
   ]
  },
  {
   "cell_type": "markdown",
   "id": "2b5a516a-a421-440c-89b2-15be12df4293",
   "metadata": {},
   "source": [
    "## 1. Ask"
   ]
  },
  {
   "cell_type": "markdown",
   "id": "f32b914f-a44f-4462-960e-c949b6e26afc",
   "metadata": {},
   "source": [
    "## 2. Prepare"
   ]
  },
  {
   "cell_type": "markdown",
   "id": "be19ea91-1aed-41a9-8270-a36740f8153c",
   "metadata": {},
   "source": [
    "## 3. Process\n",
    "#### Loading datasets"
   ]
  },
  {
   "cell_type": "code",
   "execution_count": 4,
   "id": "e0c7a219-23d9-4312-9546-40c38ab61103",
   "metadata": {},
   "outputs": [
    {
     "ename": "ImportError",
     "evalue": "cannot import name 'Axes' from 'matplotlib.axes' (unknown location)",
     "output_type": "error",
     "traceback": [
      "\u001b[1;31m---------------------------------------------------------------------------\u001b[0m",
      "\u001b[1;31mImportError\u001b[0m                               Traceback (most recent call last)",
      "Cell \u001b[1;32mIn[4], line 4\u001b[0m\n\u001b[0;32m      2\u001b[0m \u001b[38;5;28;01mimport\u001b[39;00m \u001b[38;5;21;01mnumpy\u001b[39;00m \u001b[38;5;28;01mas\u001b[39;00m \u001b[38;5;21;01mnp\u001b[39;00m\n\u001b[0;32m      3\u001b[0m \u001b[38;5;28;01mimport\u001b[39;00m \u001b[38;5;21;01mdatetime\u001b[39;00m \u001b[38;5;28;01mas\u001b[39;00m \u001b[38;5;21;01mdt\u001b[39;00m\n\u001b[1;32m----> 4\u001b[0m \u001b[38;5;28;01mimport\u001b[39;00m \u001b[38;5;21;01mmatplotlib\u001b[39;00m\u001b[38;5;21;01m.\u001b[39;00m\u001b[38;5;21;01mpyplot\u001b[39;00m \u001b[38;5;28;01mas\u001b[39;00m \u001b[38;5;21;01mplt\u001b[39;00m\n\u001b[0;32m      5\u001b[0m \u001b[38;5;28;01mimport\u001b[39;00m \u001b[38;5;21;01mseaborn\u001b[39;00m \u001b[38;5;28;01mas\u001b[39;00m \u001b[38;5;21;01msns\u001b[39;00m\n",
      "File \u001b[1;32mE:\\Software\\Lib\\site-packages\\matplotlib\\pyplot.py:66\u001b[0m\n\u001b[0;32m     63\u001b[0m \u001b[38;5;28;01mfrom\u001b[39;00m \u001b[38;5;21;01mmatplotlib\u001b[39;00m \u001b[38;5;28;01mimport\u001b[39;00m _docstring\n\u001b[0;32m     64\u001b[0m \u001b[38;5;28;01mfrom\u001b[39;00m \u001b[38;5;21;01mmatplotlib\u001b[39;00m\u001b[38;5;21;01m.\u001b[39;00m\u001b[38;5;21;01mbackend_bases\u001b[39;00m \u001b[38;5;28;01mimport\u001b[39;00m (\n\u001b[0;32m     65\u001b[0m     FigureCanvasBase, FigureManagerBase, MouseButton)\n\u001b[1;32m---> 66\u001b[0m \u001b[38;5;28;01mfrom\u001b[39;00m \u001b[38;5;21;01mmatplotlib\u001b[39;00m\u001b[38;5;21;01m.\u001b[39;00m\u001b[38;5;21;01mfigure\u001b[39;00m \u001b[38;5;28;01mimport\u001b[39;00m Figure, FigureBase, figaspect\n\u001b[0;32m     67\u001b[0m \u001b[38;5;28;01mfrom\u001b[39;00m \u001b[38;5;21;01mmatplotlib\u001b[39;00m\u001b[38;5;21;01m.\u001b[39;00m\u001b[38;5;21;01mgridspec\u001b[39;00m \u001b[38;5;28;01mimport\u001b[39;00m GridSpec, SubplotSpec\n\u001b[0;32m     68\u001b[0m \u001b[38;5;28;01mfrom\u001b[39;00m \u001b[38;5;21;01mmatplotlib\u001b[39;00m \u001b[38;5;28;01mimport\u001b[39;00m rcsetup, rcParamsDefault, rcParamsOrig\n",
      "File \u001b[1;32mE:\\Software\\Lib\\site-packages\\matplotlib\\figure.py:43\u001b[0m\n\u001b[0;32m     40\u001b[0m \u001b[38;5;28;01mimport\u001b[39;00m \u001b[38;5;21;01mnumpy\u001b[39;00m \u001b[38;5;28;01mas\u001b[39;00m \u001b[38;5;21;01mnp\u001b[39;00m\n\u001b[0;32m     42\u001b[0m \u001b[38;5;28;01mimport\u001b[39;00m \u001b[38;5;21;01mmatplotlib\u001b[39;00m \u001b[38;5;28;01mas\u001b[39;00m \u001b[38;5;21;01mmpl\u001b[39;00m\n\u001b[1;32m---> 43\u001b[0m \u001b[38;5;28;01mfrom\u001b[39;00m \u001b[38;5;21;01mmatplotlib\u001b[39;00m \u001b[38;5;28;01mimport\u001b[39;00m _blocking_input, backend_bases, _docstring, projections\n\u001b[0;32m     44\u001b[0m \u001b[38;5;28;01mfrom\u001b[39;00m \u001b[38;5;21;01mmatplotlib\u001b[39;00m\u001b[38;5;21;01m.\u001b[39;00m\u001b[38;5;21;01martist\u001b[39;00m \u001b[38;5;28;01mimport\u001b[39;00m (\n\u001b[0;32m     45\u001b[0m     Artist, allow_rasterization, _finalize_rasterization)\n\u001b[0;32m     46\u001b[0m \u001b[38;5;28;01mfrom\u001b[39;00m \u001b[38;5;21;01mmatplotlib\u001b[39;00m\u001b[38;5;21;01m.\u001b[39;00m\u001b[38;5;21;01mbackend_bases\u001b[39;00m \u001b[38;5;28;01mimport\u001b[39;00m (\n\u001b[0;32m     47\u001b[0m     DrawEvent, FigureCanvasBase, NonGuiException, MouseButton, _get_renderer)\n",
      "File \u001b[1;32mE:\\Software\\Lib\\site-packages\\matplotlib\\projections\\__init__.py:56\u001b[0m\n\u001b[0;32m      1\u001b[0m \u001b[38;5;124;03m\"\"\"\u001b[39;00m\n\u001b[0;32m      2\u001b[0m \u001b[38;5;124;03mNon-separable transforms that map from data space to screen space.\u001b[39;00m\n\u001b[0;32m      3\u001b[0m \n\u001b[1;32m   (...)\u001b[0m\n\u001b[0;32m     52\u001b[0m \u001b[38;5;124;03m`matplotlib.projections.polar` may also be of interest.\u001b[39;00m\n\u001b[0;32m     53\u001b[0m \u001b[38;5;124;03m\"\"\"\u001b[39;00m\n\u001b[0;32m     55\u001b[0m \u001b[38;5;28;01mfrom\u001b[39;00m \u001b[38;5;21;01m.\u001b[39;00m\u001b[38;5;21;01m.\u001b[39;00m \u001b[38;5;28;01mimport\u001b[39;00m axes, _docstring\n\u001b[1;32m---> 56\u001b[0m \u001b[38;5;28;01mfrom\u001b[39;00m \u001b[38;5;21;01m.\u001b[39;00m\u001b[38;5;21;01mgeo\u001b[39;00m \u001b[38;5;28;01mimport\u001b[39;00m AitoffAxes, HammerAxes, LambertAxes, MollweideAxes\n\u001b[0;32m     57\u001b[0m \u001b[38;5;28;01mfrom\u001b[39;00m \u001b[38;5;21;01m.\u001b[39;00m\u001b[38;5;21;01mpolar\u001b[39;00m \u001b[38;5;28;01mimport\u001b[39;00m PolarAxes\n\u001b[0;32m     59\u001b[0m \u001b[38;5;28;01mtry\u001b[39;00m:\n",
      "File \u001b[1;32mE:\\Software\\Lib\\site-packages\\matplotlib\\projections\\geo.py:5\u001b[0m\n\u001b[0;32m      3\u001b[0m \u001b[38;5;28;01mimport\u001b[39;00m \u001b[38;5;21;01mmatplotlib\u001b[39;00m \u001b[38;5;28;01mas\u001b[39;00m \u001b[38;5;21;01mmpl\u001b[39;00m\n\u001b[0;32m      4\u001b[0m \u001b[38;5;28;01mfrom\u001b[39;00m \u001b[38;5;21;01mmatplotlib\u001b[39;00m \u001b[38;5;28;01mimport\u001b[39;00m _api\n\u001b[1;32m----> 5\u001b[0m \u001b[38;5;28;01mfrom\u001b[39;00m \u001b[38;5;21;01mmatplotlib\u001b[39;00m\u001b[38;5;21;01m.\u001b[39;00m\u001b[38;5;21;01maxes\u001b[39;00m \u001b[38;5;28;01mimport\u001b[39;00m Axes\n\u001b[0;32m      6\u001b[0m \u001b[38;5;28;01mimport\u001b[39;00m \u001b[38;5;21;01mmatplotlib\u001b[39;00m\u001b[38;5;21;01m.\u001b[39;00m\u001b[38;5;21;01maxis\u001b[39;00m \u001b[38;5;28;01mas\u001b[39;00m \u001b[38;5;21;01mmaxis\u001b[39;00m\n\u001b[0;32m      7\u001b[0m \u001b[38;5;28;01mfrom\u001b[39;00m \u001b[38;5;21;01mmatplotlib\u001b[39;00m\u001b[38;5;21;01m.\u001b[39;00m\u001b[38;5;21;01mpatches\u001b[39;00m \u001b[38;5;28;01mimport\u001b[39;00m Circle\n",
      "\u001b[1;31mImportError\u001b[0m: cannot import name 'Axes' from 'matplotlib.axes' (unknown location)"
     ]
    }
   ],
   "source": [
    "import pandas as pd\n",
    "import numpy as np\n",
    "import datetime as dt\n",
    "import matplotlib.pyplot as plt\n",
    "import seaborn as sns"
   ]
  },
  {
   "cell_type": "code",
   "execution_count": null,
   "id": "c912b4c7-e9fa-4f50-a53d-2caa66738f90",
   "metadata": {},
   "outputs": [],
   "source": [
    "pip install --upgrade matplotlib seaborn\n"
   ]
  },
  {
   "cell_type": "code",
   "execution_count": 87,
   "id": "9fb6aafa-8947-4530-b20e-189d939997c6",
   "metadata": {},
   "outputs": [],
   "source": [
    "april_21 = pd.read_csv('E:/Data analysis certificate stuff/capstone/2021-2022/202103-divvy-tripdata.csv')\n",
    "may_21 = pd.read_csv('E:/Data analysis certificate stuff/capstone/2021-2022/202104-divvy-tripdata.csv')\n",
    "june_21 = pd.read_csv('E:/Data analysis certificate stuff/capstone/2021-2022/202105-divvy-tripdata.csv')\n",
    "july_21 = pd.read_csv('E:/Data analysis certificate stuff/capstone/2021-2022/202106-divvy-tripdata.csv')\n",
    "august_21 = pd.read_csv('E:/Data analysis certificate stuff/capstone/2021-2022/202107-divvy-tripdata.csv')\n",
    "september_21 = pd.read_csv('E:/Data analysis certificate stuff/capstone/2021-2022/202108-divvy-tripdata.csv')\n",
    "october_21 = pd.read_csv('E:/Data analysis certificate stuff/capstone/2021-2022/202109-divvy-tripdata.csv')\n",
    "november_21 = pd.read_csv('E:/Data analysis certificate stuff/capstone/2021-2022/202110-divvy-tripdata.csv')\n",
    "december_21 = pd.read_csv('E:/Data analysis certificate stuff/capstone/2021-2022/202111-divvy-tripdata.csv')\n",
    "january_22 = pd.read_csv('E:/Data analysis certificate stuff/capstone/2021-2022/202112-divvy-tripdata.csv')\n",
    "february_22 = pd.read_csv('E:/Data analysis certificate stuff/capstone/2021-2022/202201-divvy-tripdata.csv')\n",
    "march_22 = pd.read_csv('E:/Data analysis certificate stuff/capstone/2021-2022/202202-divvy-tripdata.csv')"
   ]
  },
  {
   "cell_type": "markdown",
   "id": "67f9d084-9a8a-43c7-b83d-50fa910806d4",
   "metadata": {},
   "source": [
    "## Combining the Datasets"
   ]
  },
  {
   "cell_type": "code",
   "execution_count": 9,
   "id": "75d0f24f-e18b-4cff-b9c9-7309fc8e3b03",
   "metadata": {},
   "outputs": [
    {
     "data": {
      "text/html": [
       "<div>\n",
       "<style scoped>\n",
       "    .dataframe tbody tr th:only-of-type {\n",
       "        vertical-align: middle;\n",
       "    }\n",
       "\n",
       "    .dataframe tbody tr th {\n",
       "        vertical-align: top;\n",
       "    }\n",
       "\n",
       "    .dataframe thead th {\n",
       "        text-align: right;\n",
       "    }\n",
       "</style>\n",
       "<table border=\"1\" class=\"dataframe\">\n",
       "  <thead>\n",
       "    <tr style=\"text-align: right;\">\n",
       "      <th></th>\n",
       "      <th>ride_id</th>\n",
       "      <th>rideable_type</th>\n",
       "      <th>started_at</th>\n",
       "      <th>ended_at</th>\n",
       "      <th>start_station_name</th>\n",
       "      <th>start_station_id</th>\n",
       "      <th>end_station_name</th>\n",
       "      <th>end_station_id</th>\n",
       "      <th>start_lat</th>\n",
       "      <th>start_lng</th>\n",
       "      <th>end_lat</th>\n",
       "      <th>end_lng</th>\n",
       "      <th>member_casual</th>\n",
       "    </tr>\n",
       "  </thead>\n",
       "  <tbody>\n",
       "    <tr>\n",
       "      <th>0</th>\n",
       "      <td>CFA86D4455AA1030</td>\n",
       "      <td>classic_bike</td>\n",
       "      <td>2021-03-16 08:32:30</td>\n",
       "      <td>2021-03-16 08:36:34</td>\n",
       "      <td>Humboldt Blvd &amp; Armitage Ave</td>\n",
       "      <td>15651</td>\n",
       "      <td>Stave St &amp; Armitage Ave</td>\n",
       "      <td>13266</td>\n",
       "      <td>41.917513</td>\n",
       "      <td>-87.701809</td>\n",
       "      <td>41.917741</td>\n",
       "      <td>-87.691392</td>\n",
       "      <td>casual</td>\n",
       "    </tr>\n",
       "    <tr>\n",
       "      <th>1</th>\n",
       "      <td>30D9DC61227D1AF3</td>\n",
       "      <td>classic_bike</td>\n",
       "      <td>2021-03-28 01:26:28</td>\n",
       "      <td>2021-03-28 01:36:55</td>\n",
       "      <td>Humboldt Blvd &amp; Armitage Ave</td>\n",
       "      <td>15651</td>\n",
       "      <td>Central Park Ave &amp; Bloomingdale Ave</td>\n",
       "      <td>18017</td>\n",
       "      <td>41.917513</td>\n",
       "      <td>-87.701809</td>\n",
       "      <td>41.914166</td>\n",
       "      <td>-87.716755</td>\n",
       "      <td>casual</td>\n",
       "    </tr>\n",
       "    <tr>\n",
       "      <th>2</th>\n",
       "      <td>846D87A15682A284</td>\n",
       "      <td>classic_bike</td>\n",
       "      <td>2021-03-11 21:17:29</td>\n",
       "      <td>2021-03-11 21:33:53</td>\n",
       "      <td>Shields Ave &amp; 28th Pl</td>\n",
       "      <td>15443</td>\n",
       "      <td>Halsted St &amp; 35th St</td>\n",
       "      <td>TA1308000043</td>\n",
       "      <td>41.842733</td>\n",
       "      <td>-87.635491</td>\n",
       "      <td>41.830661</td>\n",
       "      <td>-87.647172</td>\n",
       "      <td>casual</td>\n",
       "    </tr>\n",
       "    <tr>\n",
       "      <th>3</th>\n",
       "      <td>994D05AA75A168F2</td>\n",
       "      <td>classic_bike</td>\n",
       "      <td>2021-03-11 13:26:42</td>\n",
       "      <td>2021-03-11 13:55:41</td>\n",
       "      <td>Winthrop Ave &amp; Lawrence Ave</td>\n",
       "      <td>TA1308000021</td>\n",
       "      <td>Broadway &amp; Sheridan Rd</td>\n",
       "      <td>13323</td>\n",
       "      <td>41.968812</td>\n",
       "      <td>-87.657659</td>\n",
       "      <td>41.952833</td>\n",
       "      <td>-87.649993</td>\n",
       "      <td>casual</td>\n",
       "    </tr>\n",
       "    <tr>\n",
       "      <th>4</th>\n",
       "      <td>DF7464FBE92D8308</td>\n",
       "      <td>classic_bike</td>\n",
       "      <td>2021-03-21 09:09:37</td>\n",
       "      <td>2021-03-21 09:27:33</td>\n",
       "      <td>Glenwood Ave &amp; Touhy Ave</td>\n",
       "      <td>525</td>\n",
       "      <td>Chicago Ave &amp; Sheridan Rd</td>\n",
       "      <td>E008</td>\n",
       "      <td>42.012701</td>\n",
       "      <td>-87.666058</td>\n",
       "      <td>42.050491</td>\n",
       "      <td>-87.677821</td>\n",
       "      <td>casual</td>\n",
       "    </tr>\n",
       "    <tr>\n",
       "      <th>...</th>\n",
       "      <td>...</td>\n",
       "      <td>...</td>\n",
       "      <td>...</td>\n",
       "      <td>...</td>\n",
       "      <td>...</td>\n",
       "      <td>...</td>\n",
       "      <td>...</td>\n",
       "      <td>...</td>\n",
       "      <td>...</td>\n",
       "      <td>...</td>\n",
       "      <td>...</td>\n",
       "      <td>...</td>\n",
       "      <td>...</td>\n",
       "    </tr>\n",
       "    <tr>\n",
       "      <th>115604</th>\n",
       "      <td>211BE0DC162D85B7</td>\n",
       "      <td>electric_bike</td>\n",
       "      <td>2022-02-23 17:47:49</td>\n",
       "      <td>2022-02-23 18:02:29</td>\n",
       "      <td>NaN</td>\n",
       "      <td>NaN</td>\n",
       "      <td>Leavitt St &amp; Chicago Ave</td>\n",
       "      <td>18058</td>\n",
       "      <td>41.880000</td>\n",
       "      <td>-87.630000</td>\n",
       "      <td>41.895501</td>\n",
       "      <td>-87.682017</td>\n",
       "      <td>member</td>\n",
       "    </tr>\n",
       "    <tr>\n",
       "      <th>115605</th>\n",
       "      <td>D4D53E78000C8CA1</td>\n",
       "      <td>electric_bike</td>\n",
       "      <td>2022-02-04 10:43:47</td>\n",
       "      <td>2022-02-04 10:50:52</td>\n",
       "      <td>NaN</td>\n",
       "      <td>NaN</td>\n",
       "      <td>Leavitt St &amp; Chicago Ave</td>\n",
       "      <td>18058</td>\n",
       "      <td>41.910000</td>\n",
       "      <td>-87.680000</td>\n",
       "      <td>41.895501</td>\n",
       "      <td>-87.682017</td>\n",
       "      <td>member</td>\n",
       "    </tr>\n",
       "    <tr>\n",
       "      <th>115606</th>\n",
       "      <td>9E85F07D2F94492B</td>\n",
       "      <td>electric_bike</td>\n",
       "      <td>2022-02-28 09:16:33</td>\n",
       "      <td>2022-02-28 09:28:11</td>\n",
       "      <td>Wood St &amp; Chicago Ave</td>\n",
       "      <td>637</td>\n",
       "      <td>Canal St &amp; Adams St</td>\n",
       "      <td>13011</td>\n",
       "      <td>41.895714</td>\n",
       "      <td>-87.672210</td>\n",
       "      <td>41.879255</td>\n",
       "      <td>-87.639904</td>\n",
       "      <td>member</td>\n",
       "    </tr>\n",
       "    <tr>\n",
       "      <th>115607</th>\n",
       "      <td>B61B559F81F1D823</td>\n",
       "      <td>electric_bike</td>\n",
       "      <td>2022-02-10 16:55:16</td>\n",
       "      <td>2022-02-10 16:57:53</td>\n",
       "      <td>NaN</td>\n",
       "      <td>NaN</td>\n",
       "      <td>Canal St &amp; Adams St</td>\n",
       "      <td>13011</td>\n",
       "      <td>41.880000</td>\n",
       "      <td>-87.630000</td>\n",
       "      <td>41.879255</td>\n",
       "      <td>-87.639904</td>\n",
       "      <td>member</td>\n",
       "    </tr>\n",
       "    <tr>\n",
       "      <th>115608</th>\n",
       "      <td>841C701610CF0609</td>\n",
       "      <td>electric_bike</td>\n",
       "      <td>2022-02-21 16:35:20</td>\n",
       "      <td>2022-02-21 16:42:53</td>\n",
       "      <td>NaN</td>\n",
       "      <td>NaN</td>\n",
       "      <td>Larrabee St &amp; Oak St</td>\n",
       "      <td>KA1504000116</td>\n",
       "      <td>41.880000</td>\n",
       "      <td>-87.650000</td>\n",
       "      <td>41.900219</td>\n",
       "      <td>-87.642985</td>\n",
       "      <td>member</td>\n",
       "    </tr>\n",
       "  </tbody>\n",
       "</table>\n",
       "<p>5667986 rows × 13 columns</p>\n",
       "</div>"
      ],
      "text/plain": [
       "                 ride_id  rideable_type           started_at  \\\n",
       "0       CFA86D4455AA1030   classic_bike  2021-03-16 08:32:30   \n",
       "1       30D9DC61227D1AF3   classic_bike  2021-03-28 01:26:28   \n",
       "2       846D87A15682A284   classic_bike  2021-03-11 21:17:29   \n",
       "3       994D05AA75A168F2   classic_bike  2021-03-11 13:26:42   \n",
       "4       DF7464FBE92D8308   classic_bike  2021-03-21 09:09:37   \n",
       "...                  ...            ...                  ...   \n",
       "115604  211BE0DC162D85B7  electric_bike  2022-02-23 17:47:49   \n",
       "115605  D4D53E78000C8CA1  electric_bike  2022-02-04 10:43:47   \n",
       "115606  9E85F07D2F94492B  electric_bike  2022-02-28 09:16:33   \n",
       "115607  B61B559F81F1D823  electric_bike  2022-02-10 16:55:16   \n",
       "115608  841C701610CF0609  electric_bike  2022-02-21 16:35:20   \n",
       "\n",
       "                   ended_at            start_station_name start_station_id  \\\n",
       "0       2021-03-16 08:36:34  Humboldt Blvd & Armitage Ave            15651   \n",
       "1       2021-03-28 01:36:55  Humboldt Blvd & Armitage Ave            15651   \n",
       "2       2021-03-11 21:33:53         Shields Ave & 28th Pl            15443   \n",
       "3       2021-03-11 13:55:41   Winthrop Ave & Lawrence Ave     TA1308000021   \n",
       "4       2021-03-21 09:27:33      Glenwood Ave & Touhy Ave              525   \n",
       "...                     ...                           ...              ...   \n",
       "115604  2022-02-23 18:02:29                           NaN              NaN   \n",
       "115605  2022-02-04 10:50:52                           NaN              NaN   \n",
       "115606  2022-02-28 09:28:11         Wood St & Chicago Ave              637   \n",
       "115607  2022-02-10 16:57:53                           NaN              NaN   \n",
       "115608  2022-02-21 16:42:53                           NaN              NaN   \n",
       "\n",
       "                           end_station_name end_station_id  start_lat  \\\n",
       "0                   Stave St & Armitage Ave          13266  41.917513   \n",
       "1       Central Park Ave & Bloomingdale Ave          18017  41.917513   \n",
       "2                      Halsted St & 35th St   TA1308000043  41.842733   \n",
       "3                    Broadway & Sheridan Rd          13323  41.968812   \n",
       "4                 Chicago Ave & Sheridan Rd           E008  42.012701   \n",
       "...                                     ...            ...        ...   \n",
       "115604             Leavitt St & Chicago Ave          18058  41.880000   \n",
       "115605             Leavitt St & Chicago Ave          18058  41.910000   \n",
       "115606                  Canal St & Adams St          13011  41.895714   \n",
       "115607                  Canal St & Adams St          13011  41.880000   \n",
       "115608                 Larrabee St & Oak St   KA1504000116  41.880000   \n",
       "\n",
       "        start_lng    end_lat    end_lng member_casual  \n",
       "0      -87.701809  41.917741 -87.691392        casual  \n",
       "1      -87.701809  41.914166 -87.716755        casual  \n",
       "2      -87.635491  41.830661 -87.647172        casual  \n",
       "3      -87.657659  41.952833 -87.649993        casual  \n",
       "4      -87.666058  42.050491 -87.677821        casual  \n",
       "...           ...        ...        ...           ...  \n",
       "115604 -87.630000  41.895501 -87.682017        member  \n",
       "115605 -87.680000  41.895501 -87.682017        member  \n",
       "115606 -87.672210  41.879255 -87.639904        member  \n",
       "115607 -87.630000  41.879255 -87.639904        member  \n",
       "115608 -87.650000  41.900219 -87.642985        member  \n",
       "\n",
       "[5667986 rows x 13 columns]"
      ]
     },
     "execution_count": 9,
     "metadata": {},
     "output_type": "execute_result"
    }
   ],
   "source": [
    "df = pd.concat([april_21,may_21,june_21,july_21,august_21,september_21,october_21,november_21,december_21,january_22,february_22,march_22])\n",
    "df"
   ]
  },
  {
   "cell_type": "markdown",
   "id": "1d831ff4-e786-4984-bbeb-09dadb8965d0",
   "metadata": {},
   "source": [
    "#### Overall Information about the Dataset \n",
    "Lets explore"
   ]
  },
  {
   "cell_type": "code",
   "execution_count": 11,
   "id": "5bf766cb-f7d2-40c5-9784-8037c70218e5",
   "metadata": {},
   "outputs": [
    {
     "data": {
      "text/plain": [
       "(5667986, 13)"
      ]
     },
     "execution_count": 11,
     "metadata": {},
     "output_type": "execute_result"
    }
   ],
   "source": [
    "df.shape"
   ]
  },
  {
   "cell_type": "code",
   "execution_count": 12,
   "id": "623a043a-776d-4e2f-9a68-f1403d8c679b",
   "metadata": {},
   "outputs": [
    {
     "name": "stdout",
     "output_type": "stream",
     "text": [
      "<class 'pandas.core.frame.DataFrame'>\n",
      "Index: 5667986 entries, 0 to 115608\n",
      "Data columns (total 13 columns):\n",
      " #   Column              Dtype  \n",
      "---  ------              -----  \n",
      " 0   ride_id             object \n",
      " 1   rideable_type       object \n",
      " 2   started_at          object \n",
      " 3   ended_at            object \n",
      " 4   start_station_name  object \n",
      " 5   start_station_id    object \n",
      " 6   end_station_name    object \n",
      " 7   end_station_id      object \n",
      " 8   start_lat           float64\n",
      " 9   start_lng           float64\n",
      " 10  end_lat             float64\n",
      " 11  end_lng             float64\n",
      " 12  member_casual       object \n",
      "dtypes: float64(4), object(9)\n",
      "memory usage: 605.4+ MB\n"
     ]
    }
   ],
   "source": [
    "df.info()"
   ]
  },
  {
   "cell_type": "markdown",
   "id": "0b70035a-2ced-4c7e-a39a-70be3eb99e4a",
   "metadata": {},
   "source": [
    "#### Cleaning\n",
    "Checking Null values and finding duplicates"
   ]
  },
  {
   "cell_type": "code",
   "execution_count": 14,
   "id": "b0d9e30d-f438-4fcb-9f8a-f0a326a58ff4",
   "metadata": {},
   "outputs": [
    {
     "data": {
      "text/plain": [
       "0"
      ]
     },
     "execution_count": 14,
     "metadata": {},
     "output_type": "execute_result"
    }
   ],
   "source": [
    "df['ride_id'].duplicated().sum()"
   ]
  },
  {
   "cell_type": "code",
   "execution_count": 15,
   "id": "a0c2ce61-7279-4338-8640-8028c1a60875",
   "metadata": {},
   "outputs": [
    {
     "data": {
      "text/plain": [
       "ride_id                    0\n",
       "rideable_type              0\n",
       "started_at                 0\n",
       "ended_at                   0\n",
       "start_station_name    712978\n",
       "start_station_id      712975\n",
       "end_station_name      761817\n",
       "end_station_id        761817\n",
       "start_lat                  0\n",
       "start_lng                  0\n",
       "end_lat                 4617\n",
       "end_lng                 4617\n",
       "member_casual              0\n",
       "dtype: int64"
      ]
     },
     "execution_count": 15,
     "metadata": {},
     "output_type": "execute_result"
    }
   ],
   "source": [
    "df.isnull().sum()"
   ]
  },
  {
   "cell_type": "code",
   "execution_count": 16,
   "id": "0602249d-2210-40a4-8e9e-204763cc13f4",
   "metadata": {},
   "outputs": [
    {
     "data": {
      "text/plain": [
       "ride_id                    0\n",
       "rideable_type              0\n",
       "started_at                 0\n",
       "ended_at                   0\n",
       "start_station_name    712978\n",
       "start_station_id      712975\n",
       "end_station_name      761817\n",
       "end_station_id        761817\n",
       "start_lat                  0\n",
       "start_lng                  0\n",
       "end_lat                 4617\n",
       "end_lng                 4617\n",
       "member_casual              0\n",
       "dtype: int64"
      ]
     },
     "execution_count": 16,
     "metadata": {},
     "output_type": "execute_result"
    }
   ],
   "source": [
    "df.isna().sum()"
   ]
  },
  {
   "cell_type": "markdown",
   "id": "bfc7cf23-4239-476e-bb3f-303f61e7428f",
   "metadata": {},
   "source": [
    "we are looking at high number of null values, but what percentage of data is missing"
   ]
  },
  {
   "cell_type": "code",
   "execution_count": 18,
   "id": "8f90f99f-360d-494b-b967-779e3e0e72a3",
   "metadata": {},
   "outputs": [
    {
     "name": "stdout",
     "output_type": "stream",
     "text": [
      "The Percentage of missing values is 13.44 %\n"
     ]
    }
   ],
   "source": [
    "print('The Percentage of missing values is', round(df.isna().sum().max()*100/df.shape[0],2),'%')"
   ]
  },
  {
   "cell_type": "markdown",
   "id": "50f49db5-5664-4e51-a9d0-bc8511ae61ad",
   "metadata": {},
   "source": [
    "\n",
    "The data missing is 13%, while counting the highest number of null values. It is a big deal, with this measure the analysis could be declared as bias. The columns contain information of station id names where ride began and ended. It is not critical information thats why I decided to keep these missing values without endangering the analysis"
   ]
  },
  {
   "cell_type": "markdown",
   "id": "80e58a02-c8d2-4406-af47-5015b50fe2ea",
   "metadata": {},
   "source": [
    "#### Formatting columns"
   ]
  },
  {
   "cell_type": "markdown",
   "id": "ad59ab85-560e-49d2-90f8-f55cb8273a0a",
   "metadata": {},
   "source": [
    "Lets check the data types one more time"
   ]
  },
  {
   "cell_type": "code",
   "execution_count": 22,
   "id": "9f1a08cc-962e-4170-8bb2-7df61ebfa342",
   "metadata": {},
   "outputs": [
    {
     "name": "stdout",
     "output_type": "stream",
     "text": [
      "<class 'pandas.core.frame.DataFrame'>\n",
      "Index: 5667986 entries, 0 to 115608\n",
      "Data columns (total 13 columns):\n",
      " #   Column              Dtype  \n",
      "---  ------              -----  \n",
      " 0   ride_id             object \n",
      " 1   rideable_type       object \n",
      " 2   started_at          object \n",
      " 3   ended_at            object \n",
      " 4   start_station_name  object \n",
      " 5   start_station_id    object \n",
      " 6   end_station_name    object \n",
      " 7   end_station_id      object \n",
      " 8   start_lat           float64\n",
      " 9   start_lng           float64\n",
      " 10  end_lat             float64\n",
      " 11  end_lng             float64\n",
      " 12  member_casual       object \n",
      "dtypes: float64(4), object(9)\n",
      "memory usage: 605.4+ MB\n"
     ]
    }
   ],
   "source": [
    "df.info()"
   ]
  },
  {
   "cell_type": "markdown",
   "id": "4be060dd-7a24-4ce8-ad08-b892176aaa59",
   "metadata": {},
   "source": [
    "##### we found one mistake in Dtype:\n",
    "started_at and ended_at should be dates but they are shown as object \n",
    "\n",
    "##### lets change that:\n"
   ]
  },
  {
   "cell_type": "code",
   "execution_count": 24,
   "id": "6d678155-cc1c-4226-a844-3c13d445811b",
   "metadata": {},
   "outputs": [],
   "source": [
    "df['started_at'] = pd.to_datetime(df['started_at'])\n",
    "df['ended_at'] = pd.to_datetime(df['ended_at'])"
   ]
  },
  {
   "cell_type": "markdown",
   "id": "98bf887a-21c5-46f3-a389-02173948aacc",
   "metadata": {},
   "source": [
    "#### Deleting wrong entries \n",
    "we want to check the dates if they are not wrongly recorded"
   ]
  },
  {
   "cell_type": "code",
   "execution_count": 26,
   "id": "b5a4e95a-5f49-4bce-b38f-42e97a7f66eb",
   "metadata": {},
   "outputs": [
    {
     "data": {
      "text/plain": [
       "(145, 13)"
      ]
     },
     "execution_count": 26,
     "metadata": {},
     "output_type": "execute_result"
    }
   ],
   "source": [
    "false_dates = df.loc[(df['started_at'] > df['ended_at'])]\n",
    "false_dates.shape"
   ]
  },
  {
   "cell_type": "markdown",
   "id": "bdb7c05d-1591-4060-bc4e-1d0141738dd9",
   "metadata": {},
   "source": [
    "145 is the number of wrong entries where 'started_at' has determine value lower than 'ended_at'. Thats is not possbile as 'started_at' should be earlier than 'ended_at'."
   ]
  },
  {
   "cell_type": "code",
   "execution_count": 28,
   "id": "778555f8-9fe6-4763-add2-f522636fd3f4",
   "metadata": {},
   "outputs": [],
   "source": [
    "#deleting the wrong entries\n",
    "data = df.drop(false_dates.index.tolist()).copy"
   ]
  },
  {
   "cell_type": "markdown",
   "id": "05dc89a4-dbc0-4fd7-8aa7-7bee478ce34d",
   "metadata": {},
   "source": [
    "#### Adding columns\n",
    "\n",
    "These columns with be used in further analysis"
   ]
  },
  {
   "cell_type": "code",
   "execution_count": 30,
   "id": "661450cd-ff2f-4b59-acea-92a0be458263",
   "metadata": {},
   "outputs": [],
   "source": [
    "df['ride_length_min'] = ((df['ended_at'] - df['started_at']) / pd.Timedelta(minutes=1)).astype('int32')"
   ]
  },
  {
   "cell_type": "code",
   "execution_count": 31,
   "id": "cf4beb16-06d4-4729-9657-e1a0ccc6a73d",
   "metadata": {},
   "outputs": [],
   "source": [
    "#creating the name of day of week\n",
    "df['day'] = df['started_at'].dt.day_name()\n",
    "\n",
    "#creating the hour of the day\n",
    "df['hour'] = df['started_at'].dt.hour\n",
    "\n",
    "#creating the month of days\n",
    "df['month'] = df['started_at'].dt.month\n",
    "\n",
    "df['dayofweek'] = df['started_at'].dt.dayofweek"
   ]
  },
  {
   "cell_type": "code",
   "execution_count": 32,
   "id": "7da0284e-6628-4c92-9325-90003bd6aa4a",
   "metadata": {},
   "outputs": [
    {
     "data": {
      "text/html": [
       "<div>\n",
       "<style scoped>\n",
       "    .dataframe tbody tr th:only-of-type {\n",
       "        vertical-align: middle;\n",
       "    }\n",
       "\n",
       "    .dataframe tbody tr th {\n",
       "        vertical-align: top;\n",
       "    }\n",
       "\n",
       "    .dataframe thead th {\n",
       "        text-align: right;\n",
       "    }\n",
       "</style>\n",
       "<table border=\"1\" class=\"dataframe\">\n",
       "  <thead>\n",
       "    <tr style=\"text-align: right;\">\n",
       "      <th></th>\n",
       "      <th>ride_id</th>\n",
       "      <th>rideable_type</th>\n",
       "      <th>started_at</th>\n",
       "      <th>ended_at</th>\n",
       "      <th>start_station_name</th>\n",
       "      <th>start_station_id</th>\n",
       "      <th>end_station_name</th>\n",
       "      <th>end_station_id</th>\n",
       "      <th>start_lat</th>\n",
       "      <th>start_lng</th>\n",
       "      <th>end_lat</th>\n",
       "      <th>end_lng</th>\n",
       "      <th>member_casual</th>\n",
       "      <th>ride_length_min</th>\n",
       "      <th>day</th>\n",
       "      <th>hour</th>\n",
       "      <th>month</th>\n",
       "      <th>dayofweek</th>\n",
       "    </tr>\n",
       "  </thead>\n",
       "  <tbody>\n",
       "    <tr>\n",
       "      <th>56721</th>\n",
       "      <td>7CA158F5F050156E</td>\n",
       "      <td>electric_bike</td>\n",
       "      <td>2021-11-07 01:58:08</td>\n",
       "      <td>2021-11-07 01:00:06</td>\n",
       "      <td>Halsted St &amp; Dickens Ave</td>\n",
       "      <td>13192</td>\n",
       "      <td>NaN</td>\n",
       "      <td>NaN</td>\n",
       "      <td>41.920020</td>\n",
       "      <td>-87.648990</td>\n",
       "      <td>41.930000</td>\n",
       "      <td>-87.650000</td>\n",
       "      <td>casual</td>\n",
       "      <td>-58</td>\n",
       "      <td>Sunday</td>\n",
       "      <td>1</td>\n",
       "      <td>11</td>\n",
       "      <td>6</td>\n",
       "    </tr>\n",
       "    <tr>\n",
       "      <th>142091</th>\n",
       "      <td>FD8AF7324ABAE9DA</td>\n",
       "      <td>electric_bike</td>\n",
       "      <td>2021-11-07 01:56:51</td>\n",
       "      <td>2021-11-07 01:00:57</td>\n",
       "      <td>Clark St &amp; North Ave</td>\n",
       "      <td>13128</td>\n",
       "      <td>Larrabee St &amp; Webster Ave</td>\n",
       "      <td>13193</td>\n",
       "      <td>41.911738</td>\n",
       "      <td>-87.632145</td>\n",
       "      <td>41.921762</td>\n",
       "      <td>-87.644034</td>\n",
       "      <td>casual</td>\n",
       "      <td>-55</td>\n",
       "      <td>Sunday</td>\n",
       "      <td>1</td>\n",
       "      <td>11</td>\n",
       "      <td>6</td>\n",
       "    </tr>\n",
       "    <tr>\n",
       "      <th>125855</th>\n",
       "      <td>508B09A5FB0737DC</td>\n",
       "      <td>classic_bike</td>\n",
       "      <td>2021-11-07 01:54:50</td>\n",
       "      <td>2021-11-07 01:00:45</td>\n",
       "      <td>Sedgwick St &amp; Webster Ave</td>\n",
       "      <td>13191</td>\n",
       "      <td>Sedgwick St &amp; North Ave</td>\n",
       "      <td>TA1307000038</td>\n",
       "      <td>41.922167</td>\n",
       "      <td>-87.638888</td>\n",
       "      <td>41.911386</td>\n",
       "      <td>-87.638677</td>\n",
       "      <td>member</td>\n",
       "      <td>-54</td>\n",
       "      <td>Sunday</td>\n",
       "      <td>1</td>\n",
       "      <td>11</td>\n",
       "      <td>6</td>\n",
       "    </tr>\n",
       "    <tr>\n",
       "      <th>282673</th>\n",
       "      <td>7AECC76D1562B51C</td>\n",
       "      <td>classic_bike</td>\n",
       "      <td>2021-11-07 01:54:58</td>\n",
       "      <td>2021-11-07 01:01:29</td>\n",
       "      <td>Sheffield Ave &amp; Wrightwood Ave</td>\n",
       "      <td>TA1309000023</td>\n",
       "      <td>Southport Ave &amp; Wellington Ave</td>\n",
       "      <td>TA1307000006</td>\n",
       "      <td>41.928712</td>\n",
       "      <td>-87.653833</td>\n",
       "      <td>41.935733</td>\n",
       "      <td>-87.663576</td>\n",
       "      <td>casual</td>\n",
       "      <td>-53</td>\n",
       "      <td>Sunday</td>\n",
       "      <td>1</td>\n",
       "      <td>11</td>\n",
       "      <td>6</td>\n",
       "    </tr>\n",
       "    <tr>\n",
       "      <th>260820</th>\n",
       "      <td>6F9E76F5EDAAC1B8</td>\n",
       "      <td>electric_bike</td>\n",
       "      <td>2021-11-07 01:55:42</td>\n",
       "      <td>2021-11-07 01:01:55</td>\n",
       "      <td>Milwaukee Ave &amp; Wabansia Ave</td>\n",
       "      <td>13243</td>\n",
       "      <td>Western Ave &amp; Division St</td>\n",
       "      <td>13241</td>\n",
       "      <td>41.912580</td>\n",
       "      <td>-87.681424</td>\n",
       "      <td>41.902906</td>\n",
       "      <td>-87.687367</td>\n",
       "      <td>member</td>\n",
       "      <td>-53</td>\n",
       "      <td>Sunday</td>\n",
       "      <td>1</td>\n",
       "      <td>11</td>\n",
       "      <td>6</td>\n",
       "    </tr>\n",
       "    <tr>\n",
       "      <th>...</th>\n",
       "      <td>...</td>\n",
       "      <td>...</td>\n",
       "      <td>...</td>\n",
       "      <td>...</td>\n",
       "      <td>...</td>\n",
       "      <td>...</td>\n",
       "      <td>...</td>\n",
       "      <td>...</td>\n",
       "      <td>...</td>\n",
       "      <td>...</td>\n",
       "      <td>...</td>\n",
       "      <td>...</td>\n",
       "      <td>...</td>\n",
       "      <td>...</td>\n",
       "      <td>...</td>\n",
       "      <td>...</td>\n",
       "      <td>...</td>\n",
       "      <td>...</td>\n",
       "    </tr>\n",
       "    <tr>\n",
       "      <th>640346</th>\n",
       "      <td>99415B003B7E7EEE</td>\n",
       "      <td>docked_bike</td>\n",
       "      <td>2021-07-08 19:29:49</td>\n",
       "      <td>2021-08-11 21:56:58</td>\n",
       "      <td>Kedzie Ave &amp; Milwaukee Ave</td>\n",
       "      <td>13085</td>\n",
       "      <td>Base - 2132 W Hubbard Warehouse</td>\n",
       "      <td>Hubbard Bike-checking (LBS-WH-TEST)</td>\n",
       "      <td>41.929567</td>\n",
       "      <td>-87.707857</td>\n",
       "      <td>41.889955</td>\n",
       "      <td>-87.680651</td>\n",
       "      <td>casual</td>\n",
       "      <td>49107</td>\n",
       "      <td>Thursday</td>\n",
       "      <td>19</td>\n",
       "      <td>7</td>\n",
       "      <td>3</td>\n",
       "    </tr>\n",
       "    <tr>\n",
       "      <th>81713</th>\n",
       "      <td>E6E1E5BFFD72ECEC</td>\n",
       "      <td>docked_bike</td>\n",
       "      <td>2021-06-05 23:33:51</td>\n",
       "      <td>2021-07-12 13:55:14</td>\n",
       "      <td>Clark St &amp; Lake St</td>\n",
       "      <td>KA1503000012</td>\n",
       "      <td>Base - 2132 W Hubbard Warehouse</td>\n",
       "      <td>Hubbard Bike-checking (LBS-WH-TEST)</td>\n",
       "      <td>41.886021</td>\n",
       "      <td>-87.630876</td>\n",
       "      <td>41.889955</td>\n",
       "      <td>-87.680651</td>\n",
       "      <td>casual</td>\n",
       "      <td>52701</td>\n",
       "      <td>Saturday</td>\n",
       "      <td>23</td>\n",
       "      <td>6</td>\n",
       "      <td>5</td>\n",
       "    </tr>\n",
       "    <tr>\n",
       "      <th>46321</th>\n",
       "      <td>BDA1217EC8532C7B</td>\n",
       "      <td>docked_bike</td>\n",
       "      <td>2021-05-02 02:56:07</td>\n",
       "      <td>2021-06-08 13:37:43</td>\n",
       "      <td>State St &amp; Van Buren St</td>\n",
       "      <td>TA1305000035</td>\n",
       "      <td>Wells St &amp; Polk St</td>\n",
       "      <td>SL-011</td>\n",
       "      <td>41.877181</td>\n",
       "      <td>-87.627844</td>\n",
       "      <td>41.872596</td>\n",
       "      <td>-87.633502</td>\n",
       "      <td>casual</td>\n",
       "      <td>53921</td>\n",
       "      <td>Sunday</td>\n",
       "      <td>2</td>\n",
       "      <td>5</td>\n",
       "      <td>6</td>\n",
       "    </tr>\n",
       "    <tr>\n",
       "      <th>545476</th>\n",
       "      <td>7F0578ABF030FC83</td>\n",
       "      <td>docked_bike</td>\n",
       "      <td>2021-06-04 22:03:33</td>\n",
       "      <td>2021-07-13 14:15:14</td>\n",
       "      <td>Streeter Dr &amp; Grand Ave</td>\n",
       "      <td>13022</td>\n",
       "      <td>Base - 2132 W Hubbard Warehouse</td>\n",
       "      <td>Hubbard Bike-checking (LBS-WH-TEST)</td>\n",
       "      <td>41.892278</td>\n",
       "      <td>-87.612043</td>\n",
       "      <td>41.889955</td>\n",
       "      <td>-87.680651</td>\n",
       "      <td>casual</td>\n",
       "      <td>55691</td>\n",
       "      <td>Friday</td>\n",
       "      <td>22</td>\n",
       "      <td>6</td>\n",
       "      <td>4</td>\n",
       "    </tr>\n",
       "    <tr>\n",
       "      <th>595683</th>\n",
       "      <td>F043F0F6A1AA4F85</td>\n",
       "      <td>docked_bike</td>\n",
       "      <td>2021-06-05 02:27:26</td>\n",
       "      <td>2021-07-13 22:51:35</td>\n",
       "      <td>Michigan Ave &amp; Lake St</td>\n",
       "      <td>TA1305000011</td>\n",
       "      <td>Malcolm X College Vaccination Site</td>\n",
       "      <td>631</td>\n",
       "      <td>41.886024</td>\n",
       "      <td>-87.624117</td>\n",
       "      <td>41.877618</td>\n",
       "      <td>-87.673895</td>\n",
       "      <td>casual</td>\n",
       "      <td>55944</td>\n",
       "      <td>Saturday</td>\n",
       "      <td>2</td>\n",
       "      <td>6</td>\n",
       "      <td>5</td>\n",
       "    </tr>\n",
       "  </tbody>\n",
       "</table>\n",
       "<p>5667986 rows × 18 columns</p>\n",
       "</div>"
      ],
      "text/plain": [
       "                 ride_id  rideable_type          started_at  \\\n",
       "56721   7CA158F5F050156E  electric_bike 2021-11-07 01:58:08   \n",
       "142091  FD8AF7324ABAE9DA  electric_bike 2021-11-07 01:56:51   \n",
       "125855  508B09A5FB0737DC   classic_bike 2021-11-07 01:54:50   \n",
       "282673  7AECC76D1562B51C   classic_bike 2021-11-07 01:54:58   \n",
       "260820  6F9E76F5EDAAC1B8  electric_bike 2021-11-07 01:55:42   \n",
       "...                  ...            ...                 ...   \n",
       "640346  99415B003B7E7EEE    docked_bike 2021-07-08 19:29:49   \n",
       "81713   E6E1E5BFFD72ECEC    docked_bike 2021-06-05 23:33:51   \n",
       "46321   BDA1217EC8532C7B    docked_bike 2021-05-02 02:56:07   \n",
       "545476  7F0578ABF030FC83    docked_bike 2021-06-04 22:03:33   \n",
       "595683  F043F0F6A1AA4F85    docked_bike 2021-06-05 02:27:26   \n",
       "\n",
       "                  ended_at              start_station_name start_station_id  \\\n",
       "56721  2021-11-07 01:00:06        Halsted St & Dickens Ave            13192   \n",
       "142091 2021-11-07 01:00:57            Clark St & North Ave            13128   \n",
       "125855 2021-11-07 01:00:45       Sedgwick St & Webster Ave            13191   \n",
       "282673 2021-11-07 01:01:29  Sheffield Ave & Wrightwood Ave     TA1309000023   \n",
       "260820 2021-11-07 01:01:55    Milwaukee Ave & Wabansia Ave            13243   \n",
       "...                    ...                             ...              ...   \n",
       "640346 2021-08-11 21:56:58      Kedzie Ave & Milwaukee Ave            13085   \n",
       "81713  2021-07-12 13:55:14              Clark St & Lake St     KA1503000012   \n",
       "46321  2021-06-08 13:37:43         State St & Van Buren St     TA1305000035   \n",
       "545476 2021-07-13 14:15:14         Streeter Dr & Grand Ave            13022   \n",
       "595683 2021-07-13 22:51:35          Michigan Ave & Lake St     TA1305000011   \n",
       "\n",
       "                          end_station_name  \\\n",
       "56721                                  NaN   \n",
       "142091           Larrabee St & Webster Ave   \n",
       "125855             Sedgwick St & North Ave   \n",
       "282673      Southport Ave & Wellington Ave   \n",
       "260820           Western Ave & Division St   \n",
       "...                                    ...   \n",
       "640346     Base - 2132 W Hubbard Warehouse   \n",
       "81713      Base - 2132 W Hubbard Warehouse   \n",
       "46321                   Wells St & Polk St   \n",
       "545476     Base - 2132 W Hubbard Warehouse   \n",
       "595683  Malcolm X College Vaccination Site   \n",
       "\n",
       "                             end_station_id  start_lat  start_lng    end_lat  \\\n",
       "56721                                   NaN  41.920020 -87.648990  41.930000   \n",
       "142091                                13193  41.911738 -87.632145  41.921762   \n",
       "125855                         TA1307000038  41.922167 -87.638888  41.911386   \n",
       "282673                         TA1307000006  41.928712 -87.653833  41.935733   \n",
       "260820                                13241  41.912580 -87.681424  41.902906   \n",
       "...                                     ...        ...        ...        ...   \n",
       "640346  Hubbard Bike-checking (LBS-WH-TEST)  41.929567 -87.707857  41.889955   \n",
       "81713   Hubbard Bike-checking (LBS-WH-TEST)  41.886021 -87.630876  41.889955   \n",
       "46321                                SL-011  41.877181 -87.627844  41.872596   \n",
       "545476  Hubbard Bike-checking (LBS-WH-TEST)  41.892278 -87.612043  41.889955   \n",
       "595683                                  631  41.886024 -87.624117  41.877618   \n",
       "\n",
       "          end_lng member_casual  ride_length_min       day  hour  month  \\\n",
       "56721  -87.650000        casual              -58    Sunday     1     11   \n",
       "142091 -87.644034        casual              -55    Sunday     1     11   \n",
       "125855 -87.638677        member              -54    Sunday     1     11   \n",
       "282673 -87.663576        casual              -53    Sunday     1     11   \n",
       "260820 -87.687367        member              -53    Sunday     1     11   \n",
       "...           ...           ...              ...       ...   ...    ...   \n",
       "640346 -87.680651        casual            49107  Thursday    19      7   \n",
       "81713  -87.680651        casual            52701  Saturday    23      6   \n",
       "46321  -87.633502        casual            53921    Sunday     2      5   \n",
       "545476 -87.680651        casual            55691    Friday    22      6   \n",
       "595683 -87.673895        casual            55944  Saturday     2      6   \n",
       "\n",
       "        dayofweek  \n",
       "56721           6  \n",
       "142091          6  \n",
       "125855          6  \n",
       "282673          6  \n",
       "260820          6  \n",
       "...           ...  \n",
       "640346          3  \n",
       "81713           5  \n",
       "46321           6  \n",
       "545476          4  \n",
       "595683          5  \n",
       "\n",
       "[5667986 rows x 18 columns]"
      ]
     },
     "execution_count": 32,
     "metadata": {},
     "output_type": "execute_result"
    }
   ],
   "source": [
    "df.sort_values(by = 'ride_length_min', ascending = True)"
   ]
  },
  {
   "cell_type": "markdown",
   "id": "f9a6b6d1-bfb8-47ce-9654-aec2bd395949",
   "metadata": {},
   "source": [
    "We see there are entries in which the rides lasted less than 1 minute. We'll check what percentage of the data represent this instance."
   ]
  },
  {
   "cell_type": "code",
   "execution_count": 34,
   "id": "dbfe07b6-7e28-4177-81e8-60dc8e0ba873",
   "metadata": {},
   "outputs": [
    {
     "name": "stdout",
     "output_type": "stream",
     "text": [
      "The percentage is: 1.5380419076546767\n"
     ]
    }
   ],
   "source": [
    "print('The percentage is:',df.query('ride_length_min == 0').shape[0] / df.shape[0] * 100)"
   ]
  },
  {
   "cell_type": "markdown",
   "id": "87b07639-d5de-459f-ae58-c2927b0d8894",
   "metadata": {},
   "source": [
    "with just 1% percent, we can exclude the rows which have less than 1 min in ride length"
   ]
  },
  {
   "cell_type": "code",
   "execution_count": 36,
   "id": "9fc01304-110e-47d7-8338-6c6748ee7cf3",
   "metadata": {},
   "outputs": [],
   "source": [
    "zero_length = (df['ride_length_min'] <1)\n",
    "zero_length_index = df.loc[zero_length].index.tolist()\n",
    "df = df.drop(axis=0, index = zero_length_index , inplace = False)"
   ]
  },
  {
   "cell_type": "code",
   "execution_count": 37,
   "id": "e2263449-3b6d-4300-b9b6-754df8b06ad3",
   "metadata": {},
   "outputs": [
    {
     "data": {
      "text/html": [
       "<div>\n",
       "<style scoped>\n",
       "    .dataframe tbody tr th:only-of-type {\n",
       "        vertical-align: middle;\n",
       "    }\n",
       "\n",
       "    .dataframe tbody tr th {\n",
       "        vertical-align: top;\n",
       "    }\n",
       "\n",
       "    .dataframe thead th {\n",
       "        text-align: right;\n",
       "    }\n",
       "</style>\n",
       "<table border=\"1\" class=\"dataframe\">\n",
       "  <thead>\n",
       "    <tr style=\"text-align: right;\">\n",
       "      <th></th>\n",
       "      <th>ride_id</th>\n",
       "      <th>rideable_type</th>\n",
       "      <th>started_at</th>\n",
       "      <th>ended_at</th>\n",
       "      <th>start_station_name</th>\n",
       "      <th>start_station_id</th>\n",
       "      <th>end_station_name</th>\n",
       "      <th>end_station_id</th>\n",
       "      <th>start_lat</th>\n",
       "      <th>start_lng</th>\n",
       "      <th>end_lat</th>\n",
       "      <th>end_lng</th>\n",
       "      <th>member_casual</th>\n",
       "      <th>ride_length_min</th>\n",
       "      <th>day</th>\n",
       "      <th>hour</th>\n",
       "      <th>month</th>\n",
       "      <th>dayofweek</th>\n",
       "    </tr>\n",
       "  </thead>\n",
       "  <tbody>\n",
       "  </tbody>\n",
       "</table>\n",
       "</div>"
      ],
      "text/plain": [
       "Empty DataFrame\n",
       "Columns: [ride_id, rideable_type, started_at, ended_at, start_station_name, start_station_id, end_station_name, end_station_id, start_lat, start_lng, end_lat, end_lng, member_casual, ride_length_min, day, hour, month, dayofweek]\n",
       "Index: []"
      ]
     },
     "execution_count": 37,
     "metadata": {},
     "output_type": "execute_result"
    }
   ],
   "source": [
    "df.query('ride_length_min == 0')"
   ]
  },
  {
   "cell_type": "markdown",
   "id": "1ee190be-4922-4e76-ac86-9f2b0f938555",
   "metadata": {},
   "source": [
    "## 4. Analysis\n",
    "lets perform some EDA to our dataset and also understand the difference between casual users and memmbers"
   ]
  },
  {
   "cell_type": "markdown",
   "id": "0a5a606d-4ba1-4b94-b3c9-3c5f9d68c195",
   "metadata": {},
   "source": [
    "#### Describe the data\n",
    "Look at numerical data with describe function"
   ]
  },
  {
   "cell_type": "code",
   "execution_count": 40,
   "id": "82230ec5-ff0d-4b94-a9f2-c5ee7c1c27fb",
   "metadata": {},
   "outputs": [
    {
     "data": {
      "text/html": [
       "<div>\n",
       "<style scoped>\n",
       "    .dataframe tbody tr th:only-of-type {\n",
       "        vertical-align: middle;\n",
       "    }\n",
       "\n",
       "    .dataframe tbody tr th {\n",
       "        vertical-align: top;\n",
       "    }\n",
       "\n",
       "    .dataframe thead th {\n",
       "        text-align: right;\n",
       "    }\n",
       "</style>\n",
       "<table border=\"1\" class=\"dataframe\">\n",
       "  <thead>\n",
       "    <tr style=\"text-align: right;\">\n",
       "      <th></th>\n",
       "      <th>start_lat</th>\n",
       "      <th>start_lng</th>\n",
       "      <th>end_lat</th>\n",
       "      <th>end_lng</th>\n",
       "      <th>ride_length_min</th>\n",
       "      <th>hour</th>\n",
       "      <th>month</th>\n",
       "      <th>dayofweek</th>\n",
       "    </tr>\n",
       "  </thead>\n",
       "  <tbody>\n",
       "    <tr>\n",
       "      <th>count</th>\n",
       "      <td>5000948.00</td>\n",
       "      <td>5000948.00</td>\n",
       "      <td>4996752.00</td>\n",
       "      <td>4996752.00</td>\n",
       "      <td>5000948.00</td>\n",
       "      <td>5000948.00</td>\n",
       "      <td>5000948.00</td>\n",
       "      <td>5000948.00</td>\n",
       "    </tr>\n",
       "    <tr>\n",
       "      <th>mean</th>\n",
       "      <td>41.90</td>\n",
       "      <td>-87.65</td>\n",
       "      <td>41.90</td>\n",
       "      <td>-87.65</td>\n",
       "      <td>21.65</td>\n",
       "      <td>14.24</td>\n",
       "      <td>7.37</td>\n",
       "      <td>3.17</td>\n",
       "    </tr>\n",
       "    <tr>\n",
       "      <th>std</th>\n",
       "      <td>0.05</td>\n",
       "      <td>0.03</td>\n",
       "      <td>0.05</td>\n",
       "      <td>0.03</td>\n",
       "      <td>179.70</td>\n",
       "      <td>5.06</td>\n",
       "      <td>2.51</td>\n",
       "      <td>2.00</td>\n",
       "    </tr>\n",
       "    <tr>\n",
       "      <th>min</th>\n",
       "      <td>41.64</td>\n",
       "      <td>-87.84</td>\n",
       "      <td>41.39</td>\n",
       "      <td>-88.97</td>\n",
       "      <td>1.00</td>\n",
       "      <td>0.00</td>\n",
       "      <td>1.00</td>\n",
       "      <td>0.00</td>\n",
       "    </tr>\n",
       "    <tr>\n",
       "      <th>25%</th>\n",
       "      <td>41.88</td>\n",
       "      <td>-87.66</td>\n",
       "      <td>41.88</td>\n",
       "      <td>-87.66</td>\n",
       "      <td>6.00</td>\n",
       "      <td>11.00</td>\n",
       "      <td>6.00</td>\n",
       "      <td>1.00</td>\n",
       "    </tr>\n",
       "    <tr>\n",
       "      <th>50%</th>\n",
       "      <td>41.90</td>\n",
       "      <td>-87.64</td>\n",
       "      <td>41.90</td>\n",
       "      <td>-87.64</td>\n",
       "      <td>12.00</td>\n",
       "      <td>15.00</td>\n",
       "      <td>7.00</td>\n",
       "      <td>3.00</td>\n",
       "    </tr>\n",
       "    <tr>\n",
       "      <th>75%</th>\n",
       "      <td>41.93</td>\n",
       "      <td>-87.63</td>\n",
       "      <td>41.93</td>\n",
       "      <td>-87.63</td>\n",
       "      <td>21.00</td>\n",
       "      <td>18.00</td>\n",
       "      <td>9.00</td>\n",
       "      <td>5.00</td>\n",
       "    </tr>\n",
       "    <tr>\n",
       "      <th>max</th>\n",
       "      <td>42.07</td>\n",
       "      <td>-87.52</td>\n",
       "      <td>42.15</td>\n",
       "      <td>-87.49</td>\n",
       "      <td>55944.00</td>\n",
       "      <td>23.00</td>\n",
       "      <td>12.00</td>\n",
       "      <td>6.00</td>\n",
       "    </tr>\n",
       "  </tbody>\n",
       "</table>\n",
       "</div>"
      ],
      "text/plain": [
       "        start_lat   start_lng     end_lat     end_lng  ride_length_min  \\\n",
       "count  5000948.00  5000948.00  4996752.00  4996752.00       5000948.00   \n",
       "mean        41.90      -87.65       41.90      -87.65            21.65   \n",
       "std          0.05        0.03        0.05        0.03           179.70   \n",
       "min         41.64      -87.84       41.39      -88.97             1.00   \n",
       "25%         41.88      -87.66       41.88      -87.66             6.00   \n",
       "50%         41.90      -87.64       41.90      -87.64            12.00   \n",
       "75%         41.93      -87.63       41.93      -87.63            21.00   \n",
       "max         42.07      -87.52       42.15      -87.49         55944.00   \n",
       "\n",
       "             hour       month   dayofweek  \n",
       "count  5000948.00  5000948.00  5000948.00  \n",
       "mean        14.24        7.37        3.17  \n",
       "std          5.06        2.51        2.00  \n",
       "min          0.00        1.00        0.00  \n",
       "25%         11.00        6.00        1.00  \n",
       "50%         15.00        7.00        3.00  \n",
       "75%         18.00        9.00        5.00  \n",
       "max         23.00       12.00        6.00  "
      ]
     },
     "execution_count": 40,
     "metadata": {},
     "output_type": "execute_result"
    }
   ],
   "source": [
    "numeric_df = df.select_dtypes(include=['number'])\n",
    "round(numeric_df.describe(), 2)"
   ]
  },
  {
   "cell_type": "markdown",
   "id": "2567818d-774f-4e43-9885-bac9ab291331",
   "metadata": {},
   "source": [
    "As noticed, we can see ride_length_min variable has a huge max value and the 75 percentile is much lesser. It can be an outlier, lets take this into accounts"
   ]
  },
  {
   "cell_type": "markdown",
   "id": "bad50498-da4f-4516-8a19-1aa61ee6a9ec",
   "metadata": {},
   "source": [
    "#### Number of Values \n",
    "\n",
    "Lets count the number of values of members and rideable type"
   ]
  },
  {
   "cell_type": "code",
   "execution_count": 43,
   "id": "0e49830f-8beb-4438-a9ed-3a7324d2b8cf",
   "metadata": {},
   "outputs": [
    {
     "data": {
      "text/plain": [
       "member_casual\n",
       "member    2744773\n",
       "casual    2256175\n",
       "Name: count, dtype: int64"
      ]
     },
     "execution_count": 43,
     "metadata": {},
     "output_type": "execute_result"
    }
   ],
   "source": [
    "df['member_casual'].value_counts()"
   ]
  },
  {
   "cell_type": "code",
   "execution_count": 44,
   "id": "7b7bf267-d397-47e8-89b9-9a0d49c7819a",
   "metadata": {},
   "outputs": [
    {
     "data": {
      "text/plain": [
       "rideable_type\n",
       "classic_bike     2885805\n",
       "electric_bike    1837785\n",
       "docked_bike       277358\n",
       "Name: count, dtype: int64"
      ]
     },
     "execution_count": 44,
     "metadata": {},
     "output_type": "execute_result"
    }
   ],
   "source": [
    "df['rideable_type'].value_counts()"
   ]
  },
  {
   "cell_type": "markdown",
   "id": "3a3a69b4-0b13-4839-a932-f90be68b3082",
   "metadata": {},
   "source": [
    "#### Grouping of data\n",
    "I'll group the data by type of users and rideable types."
   ]
  },
  {
   "cell_type": "code",
   "execution_count": 46,
   "id": "baa49f49-3e76-429a-9bb5-433c4f090c87",
   "metadata": {},
   "outputs": [],
   "source": [
    "user_grp = df.groupby('member_casual')\n",
    "rideable_grp = df.groupby('rideable_type')"
   ]
  },
  {
   "cell_type": "markdown",
   "id": "2db1b9de-4f76-46e4-8f30-1eafc9d29bda",
   "metadata": {},
   "source": [
    "##### Max values"
   ]
  },
  {
   "cell_type": "code",
   "execution_count": 48,
   "id": "a524513f-284f-4859-8a54-6d69a09dcbea",
   "metadata": {},
   "outputs": [
    {
     "name": "stdout",
     "output_type": "stream",
     "text": [
      "max ride length by user group:\n",
      "\n",
      "member_casual\n",
      "casual    55944\n",
      "member     1559\n",
      "Name: ride_length_min, dtype: int32\n",
      "\n",
      "max ride length by rideable group:\n",
      "rideable_type\n",
      "classic_bike      1559\n",
      "docked_bike      55944\n",
      "electric_bike      487\n",
      "Name: ride_length_min, dtype: int32\n"
     ]
    }
   ],
   "source": [
    "print('max ride length by user group:')\n",
    "print()\n",
    "print(user_grp['ride_length_min'].max())\n",
    "\n",
    "print()\n",
    "print('max ride length by rideable group:')\n",
    "print(rideable_grp['ride_length_min'].max())"
   ]
  },
  {
   "cell_type": "markdown",
   "id": "39435d69-6fb3-4e3a-893a-70bdaf127f0e",
   "metadata": {},
   "source": [
    "We can see the casual maximum value and also docked_bike max value, thats clearly an outlier"
   ]
  },
  {
   "cell_type": "markdown",
   "id": "2e8a12bc-79e2-4b13-9826-f6edc5ab0912",
   "metadata": {},
   "source": [
    "Lets have a look to other bikes and users too"
   ]
  },
  {
   "cell_type": "code",
   "execution_count": 51,
   "id": "2de8062a-b91f-458a-a324-59a16de9504d",
   "metadata": {},
   "outputs": [
    {
     "data": {
      "text/plain": [
       "member_casual  rideable_type\n",
       "casual         classic_bike      1559\n",
       "               docked_bike      55944\n",
       "               electric_bike      487\n",
       "member         classic_bike      1559\n",
       "               electric_bike      480\n",
       "Name: ride_length_min, dtype: int32"
      ]
     },
     "execution_count": 51,
     "metadata": {},
     "output_type": "execute_result"
    }
   ],
   "source": [
    "df.groupby(['member_casual', 'rideable_type'])['ride_length_min'].max()"
   ]
  },
  {
   "cell_type": "markdown",
   "id": "1105fa35-f32f-4be3-b3f5-7072d948ae06",
   "metadata": {},
   "source": [
    "Other than docked bikes, classic bike has value 1559 which equals to 26 hours, more than day. It is also noted as an outlier."
   ]
  },
  {
   "cell_type": "markdown",
   "id": "176e488c-8d90-4af8-b08e-323ff4b0de04",
   "metadata": {},
   "source": [
    "#### Average and Median values"
   ]
  },
  {
   "cell_type": "code",
   "execution_count": 54,
   "id": "c2831988-9a48-4efc-85ae-b5953acce333",
   "metadata": {},
   "outputs": [
    {
     "data": {
      "text/plain": [
       "member_casual\n",
       "casual    31.878078\n",
       "member    13.239247\n",
       "Name: ride_length_min, dtype: float64"
      ]
     },
     "execution_count": 54,
     "metadata": {},
     "output_type": "execute_result"
    }
   ],
   "source": [
    "user_grp['ride_length_min'].mean()"
   ]
  },
  {
   "cell_type": "code",
   "execution_count": 55,
   "id": "820b149c-9f08-43bb-9905-1b8af194cdc3",
   "metadata": {},
   "outputs": [
    {
     "data": {
      "text/plain": [
       "member_casual\n",
       "casual    16.0\n",
       "member     9.0\n",
       "Name: ride_length_min, dtype: float64"
      ]
     },
     "execution_count": 55,
     "metadata": {},
     "output_type": "execute_result"
    }
   ],
   "source": [
    "user_grp['ride_length_min'].median()"
   ]
  },
  {
   "cell_type": "code",
   "execution_count": 56,
   "id": "3a3b7231-c61b-40c1-9681-576510640866",
   "metadata": {},
   "outputs": [
    {
     "data": {
      "text/plain": [
       "rideable_type\n",
       "classic_bike     19.625193\n",
       "docked_bike      82.017724\n",
       "electric_bike    15.713752\n",
       "Name: ride_length_min, dtype: float64"
      ]
     },
     "execution_count": 56,
     "metadata": {},
     "output_type": "execute_result"
    }
   ],
   "source": [
    "rideable_grp['ride_length_min'].mean()"
   ]
  },
  {
   "cell_type": "code",
   "execution_count": 57,
   "id": "ed932f61-1aff-4340-aa27-c5a57e1f82f0",
   "metadata": {},
   "outputs": [
    {
     "data": {
      "text/plain": [
       "rideable_type\n",
       "classic_bike     12.0\n",
       "docked_bike      28.0\n",
       "electric_bike    10.0\n",
       "Name: ride_length_min, dtype: float64"
      ]
     },
     "execution_count": 57,
     "metadata": {},
     "output_type": "execute_result"
    }
   ],
   "source": [
    "rideable_grp['ride_length_min'].median()"
   ]
  },
  {
   "cell_type": "code",
   "execution_count": 58,
   "id": "d95998d5-9492-4d22-b98e-15a79e8a760d",
   "metadata": {},
   "outputs": [
    {
     "data": {
      "text/plain": [
       "0    5\n",
       "Name: ride_length_min, dtype: int32"
      ]
     },
     "execution_count": 58,
     "metadata": {},
     "output_type": "execute_result"
    }
   ],
   "source": [
    "df.query('member_casual == \"member\"')['ride_length_min'].mode()"
   ]
  },
  {
   "cell_type": "markdown",
   "id": "80436342-a7c1-420b-bfb5-5725e12d41d1",
   "metadata": {},
   "source": [
    "#### Frequency of values \n",
    "\n",
    "We are going to analyze the number of repeating values within the column of the ride length, where does the data lies with high majority of outliers and the percentage of it"
   ]
  },
  {
   "cell_type": "code",
   "execution_count": 60,
   "id": "e89cf6e0-d5b8-4da9-9426-c4df989a7a32",
   "metadata": {},
   "outputs": [
    {
     "name": "stderr",
     "output_type": "stream",
     "text": [
      "C:\\Users\\Adil Jafferani\\AppData\\Local\\Temp\\ipykernel_9184\\441240657.py:3: FutureWarning: The default of observed=False is deprecated and will be changed to True in a future version of pandas. Pass observed=False to retain current behavior or observed=True to adopt the future default and silence this warning.\n",
      "  frequency = frequency_table.groupby('freq')['dayofweek'].count().reset_index\n"
     ]
    },
    {
     "data": {
      "text/plain": [
       "<bound method Series.reset_index of freq\n",
       "(-54.943, 1399.575]      4997185\n",
       "(1399.575, 2798.15]         3036\n",
       "(2798.15, 4196.725]          166\n",
       "(4196.725, 5595.3]            89\n",
       "(5595.3, 6993.875]            82\n",
       "(6993.875, 8392.45]           56\n",
       "(8392.45, 9791.025]           39\n",
       "(9791.025, 11189.6]           34\n",
       "(11189.6, 12588.175]          52\n",
       "(12588.175, 13986.75]         25\n",
       "(13986.75, 15385.325]         25\n",
       "(15385.325, 16783.9]          20\n",
       "(16783.9, 18182.475]          16\n",
       "(18182.475, 19581.05]         16\n",
       "(19581.05, 20979.625]         10\n",
       "(20979.625, 22378.2]          12\n",
       "(22378.2, 23776.775]          10\n",
       "(23776.775, 25175.35]         13\n",
       "(25175.35, 26573.925]         11\n",
       "(26573.925, 27972.5]           6\n",
       "(27972.5, 29371.075]           5\n",
       "(29371.075, 30769.65]          6\n",
       "(30769.65, 32168.225]          5\n",
       "(32168.225, 33566.8]           5\n",
       "(33566.8, 34965.375]           4\n",
       "(34965.375, 36363.95]          3\n",
       "(36363.95, 37762.525]          0\n",
       "(37762.525, 39161.1]           2\n",
       "(39161.1, 40559.675]           4\n",
       "(40559.675, 41958.25]          4\n",
       "(41958.25, 43356.825]          0\n",
       "(43356.825, 44755.4]           0\n",
       "(44755.4, 46153.975]           0\n",
       "(46153.975, 47552.55]          1\n",
       "(47552.55, 48951.125]          1\n",
       "(48951.125, 50349.7]           1\n",
       "(50349.7, 51748.275]           0\n",
       "(51748.275, 53146.85]          1\n",
       "(53146.85, 54545.425]          1\n",
       "(54545.425, 55944.0]           2\n",
       "Name: dayofweek, dtype: int64>"
      ]
     },
     "execution_count": 60,
     "metadata": {},
     "output_type": "execute_result"
    }
   ],
   "source": [
    "frequency_table = df.copy()\n",
    "frequency_table['freq'] = pd.cut(df['ride_length_min'], 40)\n",
    "frequency = frequency_table.groupby('freq')['dayofweek'].count().reset_index\n",
    "frequency "
   ]
  },
  {
   "cell_type": "code",
   "execution_count": 61,
   "id": "fcf1f399-ed91-4357-ae27-de986d6d4f0e",
   "metadata": {},
   "outputs": [
    {
     "name": "stdout",
     "output_type": "stream",
     "text": [
      "the manjority of baised values falls within the 99.9 % of the data\n"
     ]
    }
   ],
   "source": [
    "print('the manjority of baised values falls within the', round((4997185/df.shape[0]*100),1),'% of the data')"
   ]
  },
  {
   "cell_type": "markdown",
   "id": "cc197421-be7f-4b6b-afdb-c06ec33bbcb3",
   "metadata": {},
   "source": [
    "the max value which is part of the 99.9% of the data is 1399.575 minutes, that's still 23 hours in length for a ride. we can still filter the data even more by just using the 99.5% or 99.0% of values"
   ]
  },
  {
   "cell_type": "markdown",
   "id": "60fa2743-93f3-4a52-8ba5-a9bf79efffc5",
   "metadata": {},
   "source": [
    "With this information we can state that the outliers only represent the 0.1% of values in the data, however, since the range is very large between the minimum and maximum values, we can say that the averages could be somewhat affected by this outliers. In this case we need to take that into acount by the time of sharing our insights"
   ]
  },
  {
   "cell_type": "markdown",
   "id": "493d74df-c8e3-4b90-a2b8-9c2796f14593",
   "metadata": {},
   "source": [
    "## 5. Share"
   ]
  },
  {
   "cell_type": "code",
   "execution_count": 65,
   "id": "fc5aa450-56bc-4a89-b8c7-048a17b78995",
   "metadata": {},
   "outputs": [],
   "source": [
    "yellow = '#e1f26b'\n",
    "blue = '#4594a4'\n",
    "green = '#9ccc84'\n",
    "gray = '#d3e6ea'\n",
    "lblue ='#9ccbd4'\n",
    "white = '#FFFFFF'"
   ]
  },
  {
   "cell_type": "markdown",
   "id": "8953c4fa-b5e7-48ac-965e-46028c313669",
   "metadata": {},
   "source": [
    "##### Outliers in ride length"
   ]
  },
  {
   "cell_type": "code",
   "execution_count": 67,
   "id": "5ab36da2-9b1e-4286-9921-c147313e5f79",
   "metadata": {},
   "outputs": [
    {
     "name": "stderr",
     "output_type": "stream",
     "text": [
      "C:\\Users\\Adil Jafferani\\AppData\\Local\\Temp\\ipykernel_9184\\237965478.py:4: FutureWarning: \n",
      "\n",
      "Passing `palette` without assigning `hue` is deprecated and will be removed in v0.14.0. Assign the `x` variable to `hue` and set `legend=False` for the same effect.\n",
      "\n",
      "  ax1 = sns.boxplot(data = df ,x = 'rideable_type' ,y ='ride_length_min',palette='deep')\n",
      "C:\\Users\\Adil Jafferani\\AppData\\Local\\Temp\\ipykernel_9184\\237965478.py:11: FutureWarning: \n",
      "\n",
      "Passing `palette` without assigning `hue` is deprecated and will be removed in v0.14.0. Assign the `x` variable to `hue` and set `legend=False` for the same effect.\n",
      "\n",
      "  ax2 = sns.boxplot(data = no_docked_bike ,x = 'rideable_type' ,y = 'ride_length_min',palette='muted')\n",
      "C:\\Users\\Adil Jafferani\\AppData\\Local\\Temp\\ipykernel_9184\\237965478.py:19: FutureWarning: \n",
      "\n",
      "Passing `palette` without assigning `hue` is deprecated and will be removed in v0.14.0. Assign the `x` variable to `hue` and set `legend=False` for the same effect.\n",
      "\n",
      "  ax3 = sns.boxplot(data = df_99 ,x = 'rideable_type' ,y = 'ride_length_min',palette='bright')\n"
     ]
    },
    {
     "data": {
      "image/png": "[encoded data removed]",
      "text/plain": [
       "<Figure size 1200x500 with 3 Axes>"
      ]
     },
     "metadata": {},
     "output_type": "display_data"
    }
   ],
   "source": [
    "fig, ax = plt.subplots(nrows = 1, ncols= 3, figsize = (12,5), sharex = False)\n",
    "\n",
    "plt.subplot(1,3,1)\n",
    "ax1 = sns.boxplot(data = df ,x = 'rideable_type' ,y ='ride_length_min',palette='deep')\n",
    "ax1.set_title('Ride Length distribution per Rideable type')\n",
    "\n",
    "#filtering out the docked_type bike\n",
    "no_docked_bike = df.query('rideable_type != \"docked_bike\"')\n",
    "\n",
    "plt.subplot(1,3,2)\n",
    "ax2 = sns.boxplot(data = no_docked_bike ,x = 'rideable_type' ,y = 'ride_length_min',palette='muted')\n",
    "ax2.set_title('Ride Length distribution without docked type')\n",
    "\n",
    "#filetering out 1% of values\n",
    "percent_99 = np.percentile(df['ride_length_min'], 99)\n",
    "df_99 = df.loc[(df['ride_length_min'] <= percent_99)]\n",
    "\n",
    "plt.subplot(1,3,3)\n",
    "ax3 = sns.boxplot(data = df_99 ,x = 'rideable_type' ,y = 'ride_length_min',palette='bright')\n",
    "ax3.set_title('Ride Length distribution 99%')\n",
    "\n",
    "plt.tight_layout()\n",
    "plt.show()"
   ]
  },
  {
   "cell_type": "markdown",
   "id": "3c958a72-7f9a-4167-b914-661a8bc3955c",
   "metadata": {},
   "source": [
    "We can see that for the type of docked bike, the ride length in minutes get way higher than those for the classic and electric bike, so the data is biased with many outliers.\n",
    "\n",
    "For the classic bike and electric bike it seems there are not that many outliers, but after a closer look, we see in the second graph that there are many outliers as well, ranging up to 1600 minutes.\n",
    "\n",
    "In the third graph we eliminate the 1% of values which exceed the normal distribution, so that we can see better the distribution and percentiles. Also confirms visually what we already know about the median of the ride length for the rideable type.\n",
    "\n",
    "12 minutes for the classic bike\n",
    "\n",
    "28 minutes for the docked bike\n",
    "\n",
    "10 minutes for the electric bike\n",
    "\n",
    "Also close to the average if we eliminate that 0.1% or up to 1% of very extreme values. These lengths are closer to what an actual user is expected to spend riding a bike every time they use the service.\n"
   ]
  },
  {
   "cell_type": "markdown",
   "id": "f7d393a4-ac06-4b38-80ee-77aeaba35ac8",
   "metadata": {},
   "source": [
    "#### Ride length per weekday"
   ]
  },
  {
   "cell_type": "code",
   "execution_count": null,
   "id": "ad332f4f-4c2a-4c73-83e0-7972673a8fbc",
   "metadata": {},
   "outputs": [],
   "source": [
    "# Weekday names\n",
    "weekday_name = ['Monday', 'Tuesday', 'Wednesday', 'Thursday', 'Friday', 'Saturday', 'Sunday']\n",
    "\n",
    "# Create the figure and axis\n",
    "fig, ax = plt.subplots(figsize=(10, 6))\n",
    "\n",
    "# Group data by member type and day of the week, then compute the mean ride length\n",
    "day_grp = df_99.groupby(['member_casual', 'dayofweek']).mean().reset_index()\n",
    "\n",
    "# Plot the data\n",
    "sns.lineplot(data=day_grp, x='dayofweek', y='ride_length_min', hue='member_casual', palette=['green', 'blue'], ax=ax)\n",
    "\n",
    "# Set the x-ticks and labels\n",
    "ax.set_xticks(range(len(weekday_name)))\n",
    "ax.set_xticklabels(weekday_name)\n",
    "\n",
    "# Set title and grid\n",
    "ax.set_title('Ride Length per Weekday')\n",
    "ax.grid(visible=True, alpha=0.3)\n",
    "\n",
    "# Show the plot\n",
    "plt.tight_layout()\n",
    "plt.show()\n"
   ]
  },
  {
   "cell_type": "code",
   "execution_count": null,
   "id": "cd41b591-aabd-48d0-baac-407c2d735c89",
   "metadata": {},
   "outputs": [],
   "source": []
  },
  {
   "cell_type": "code",
   "execution_count": null,
   "id": "8c7d7610-7736-4360-9b17-a3d92b34312f",
   "metadata": {},
   "outputs": [],
   "source": []
  }
 ],
 "metadata": {
  "kernelspec": {
   "display_name": "Python 3 (ipykernel)",
   "language": "python",
   "name": "python3"
  },
  "language_info": {
   "codemirror_mode": {
    "name": "ipython",
    "version": 3
   },
   "file_extension": ".py",
   "mimetype": "text/x-python",
   "name": "python",
   "nbconvert_exporter": "python",
   "pygments_lexer": "ipython3",
   "version": "3.12.4"
  }
 },
 "nbformat": 4,
 "nbformat_minor": 5
}
